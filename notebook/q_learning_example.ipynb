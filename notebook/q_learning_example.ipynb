{
  "nbformat": 4,
  "nbformat_minor": 0,
  "metadata": {
    "colab": {
      "name": "q-learning-example.ipynb",
      "provenance": [],
      "authorship_tag": "ABX9TyMThZFUK35vrIb255a8PFt1",
      "include_colab_link": true
    },
    "kernelspec": {
      "name": "python3",
      "display_name": "Python 3"
    }
  },
  "cells": [
    {
      "cell_type": "markdown",
      "metadata": {
        "id": "view-in-github",
        "colab_type": "text"
      },
      "source": [
        "<a href=\"https://colab.research.google.com/github/sanikamal/reinforcement-learning-atoz/blob/master/notebook/q_learning_example.ipynb\" target=\"_parent\"><img src=\"https://colab.research.google.com/assets/colab-badge.svg\" alt=\"Open In Colab\"/></a>"
      ]
    },
    {
      "cell_type": "markdown",
      "metadata": {
        "id": "k3VcD6aHTVKM",
        "colab_type": "text"
      },
      "source": [
        "# Q Learning: Robots in a warehouse"
      ]
    },
    {
      "cell_type": "code",
      "metadata": {
        "id": "n_5cvKCETk16",
        "colab_type": "code",
        "colab": {}
      },
      "source": [
        "# Importing the libraries\n",
        "import numpy as np"
      ],
      "execution_count": 1,
      "outputs": []
    },
    {
      "cell_type": "code",
      "metadata": {
        "id": "96e47NMOTn00",
        "colab_type": "code",
        "colab": {}
      },
      "source": [
        "# Setting the parameters gamma and alpha for the Q-Learning\n",
        "gamma = 0.75\n",
        "alpha = 0.9"
      ],
      "execution_count": 2,
      "outputs": []
    },
    {
      "cell_type": "markdown",
      "metadata": {
        "id": "T1H18tm_Tss8",
        "colab_type": "text"
      },
      "source": [
        "## BUILDING THE ENVIRONMENT"
      ]
    },
    {
      "cell_type": "code",
      "metadata": {
        "id": "JDUqwYelT3a7",
        "colab_type": "code",
        "colab": {}
      },
      "source": [
        "# Defining the states\n",
        "location_to_state = {'A': 0,\n",
        "                     'B': 1,\n",
        "                     'C': 2,\n",
        "                     'D': 3,\n",
        "                     'E': 4,\n",
        "                     'F': 5,\n",
        "                     'G': 6,\n",
        "                     'H': 7,\n",
        "                     'I': 8,\n",
        "                     'J': 9,\n",
        "                     'K': 10,\n",
        "                     'L': 11}\n",
        "\n",
        "# Defining the actions\n",
        "actions = [0,1,2,3,4,5,6,7,8,9,10,11]\n",
        "\n",
        "# Defining the rewards\n",
        "R = np.array([[0,1,0,0,0,0,0,0,0,0,0,0],\n",
        "              [1,0,1,0,0,1,0,0,0,0,0,0],\n",
        "              [0,1,0,0,0,0,1,0,0,0,0,0],\n",
        "              [0,0,0,0,0,0,0,1,0,0,0,0],\n",
        "              [0,0,0,0,0,0,0,0,1,0,0,0],\n",
        "              [0,1,0,0,0,0,0,0,0,1,0,0],\n",
        "              [0,0,1,0,0,0,1,1,0,0,0,0],\n",
        "              [0,0,0,1,0,0,1,0,0,0,0,1],\n",
        "              [0,0,0,0,1,0,0,0,0,1,0,0],\n",
        "              [0,0,0,0,0,1,0,0,1,0,1,0],\n",
        "              [0,0,0,0,0,0,0,0,0,1,0,1],\n",
        "              [0,0,0,0,0,0,0,1,0,0,1,0]])"
      ],
      "execution_count": 3,
      "outputs": []
    },
    {
      "cell_type": "markdown",
      "metadata": {
        "id": "aNP50Im0T_KB",
        "colab_type": "text"
      },
      "source": [
        "## BUILDING THE AI SOLUTION WITH Q-LEARNING"
      ]
    },
    {
      "cell_type": "code",
      "metadata": {
        "id": "6pg3toSgUFCq",
        "colab_type": "code",
        "colab": {}
      },
      "source": [
        "# Making a mapping from the states to the locations\n",
        "state_to_location = {state: location for location, state in location_to_state.items()}\n",
        "\n",
        "# Making a function that returns the shortest route from a starting to ending location\n",
        "def route(starting_location, ending_location):\n",
        "    R_new = np.copy(R)\n",
        "    ending_state = location_to_state[ending_location]\n",
        "    R_new[ending_state, ending_state] = 1000\n",
        "    Q = np.array(np.zeros([12,12]))\n",
        "    for i in range(1000):\n",
        "        current_state = np.random.randint(0,12)\n",
        "        playable_actions = []\n",
        "        for j in range(12):\n",
        "            if R_new[current_state, j] > 0:\n",
        "                playable_actions.append(j)\n",
        "        next_state = np.random.choice(playable_actions)\n",
        "        TD = R_new[current_state, next_state] + gamma * Q[next_state, np.argmax(Q[next_state,])] - Q[current_state, next_state]\n",
        "        Q[current_state, next_state] = Q[current_state, next_state] + alpha * TD\n",
        "    route = [starting_location]\n",
        "    next_location = starting_location\n",
        "    while (next_location != ending_location):\n",
        "        starting_state = location_to_state[starting_location]\n",
        "        next_state = np.argmax(Q[starting_state,])\n",
        "        next_location = state_to_location[next_state]\n",
        "        route.append(next_location)\n",
        "        starting_location = next_location\n",
        "    return route"
      ],
      "execution_count": 4,
      "outputs": []
    },
    {
      "cell_type": "markdown",
      "metadata": {
        "id": "cJRdVHLtULxj",
        "colab_type": "text"
      },
      "source": [
        "## GOING INTO PRODUCTION"
      ]
    },
    {
      "cell_type": "code",
      "metadata": {
        "id": "zMVual7pTR5x",
        "colab_type": "code",
        "colab": {
          "base_uri": "https://localhost:8080/",
          "height": 52
        },
        "outputId": "29c1b12b-d794-420f-fb1b-d5cc21ea9247"
      },
      "source": [
        "# Making the final function that returns the optimal route\n",
        "def best_route(starting_location, intermediary_location, ending_location):\n",
        "    return route(starting_location, intermediary_location) + route(intermediary_location, ending_location)[1:]\n",
        "\n",
        "# Printing the final route\n",
        "print('Route:')\n",
        "best_route('E', 'K', 'G')"
      ],
      "execution_count": 5,
      "outputs": [
        {
          "output_type": "stream",
          "text": [
            "Route:\n"
          ],
          "name": "stdout"
        },
        {
          "output_type": "execute_result",
          "data": {
            "text/plain": [
              "['E', 'I', 'J', 'K', 'L', 'H', 'G']"
            ]
          },
          "metadata": {
            "tags": []
          },
          "execution_count": 5
        }
      ]
    },
    {
      "cell_type": "code",
      "metadata": {
        "id": "ttfQfb3cUPHz",
        "colab_type": "code",
        "colab": {}
      },
      "source": [
        ""
      ],
      "execution_count": null,
      "outputs": []
    }
  ]
}