{
  "nbformat": 4,
  "nbformat_minor": 0,
  "metadata": {
    "colab": {
      "name": "thompson-sampling.ipynb",
      "provenance": [],
      "authorship_tag": "ABX9TyOdfGt6og1T1kHW7P+9G06u",
      "include_colab_link": true
    },
    "kernelspec": {
      "name": "python3",
      "display_name": "Python 3"
    }
  },
  "cells": [
    {
      "cell_type": "markdown",
      "metadata": {
        "id": "view-in-github",
        "colab_type": "text"
      },
      "source": [
        "<a href=\"https://colab.research.google.com/github/sanikamal/reinforcement-learning-atoz/blob/master/notebook/thompson_sampling.ipynb\" target=\"_parent\"><img src=\"https://colab.research.google.com/assets/colab-badge.svg\" alt=\"Open In Colab\"/></a>"
      ]
    },
    {
      "cell_type": "markdown",
      "metadata": {
        "id": "kaR_2J5N-qbi",
        "colab_type": "text"
      },
      "source": [
        "# The multi-armed bandit problem"
      ]
    },
    {
      "cell_type": "markdown",
      "metadata": {
        "id": "JmVluRZq-GnD",
        "colab_type": "text"
      },
      "source": [
        "## The Thompson Sampling Model\n",
        "\n",
        "### Problem:Trying to find the best slot machine with the highest winning chance out of many. "
      ]
    },
    {
      "cell_type": "code",
      "metadata": {
        "id": "FTw2nqIK-8VF",
        "colab_type": "code",
        "colab": {}
      },
      "source": [
        "# Importing the libraries\n",
        "import numpy as np\n",
        "import pandas as pd\n",
        "# setting conversion rates and the number of sample\n",
        "conversion_rates = [0.15,0.04,0.13,0.11,0.05]\n",
        "N = 10000\n",
        "d = len(conversion_rates)"
      ],
      "execution_count": 1,
      "outputs": []
    },
    {
      "cell_type": "code",
      "metadata": {
        "id": "DDPv_bNGALVf",
        "colab_type": "code",
        "colab": {}
      },
      "source": [
        "# creating the dataset\n",
        "X = np.zeros((N,d))\n",
        "\n",
        "for i in range(N):\n",
        "    for j in range(d):\n",
        "        if np.random.rand() < conversion_rates[j]:\n",
        "            X[i][j] = 1"
      ],
      "execution_count": 2,
      "outputs": []
    },
    {
      "cell_type": "code",
      "metadata": {
        "id": "SxigpuZ0Auyy",
        "colab_type": "code",
        "colab": {}
      },
      "source": [
        "# making arrays to count our losses and wins\n",
        "no_of_pos_reward = np.zeros(d)\n",
        "no_of_neg_reward = np.zeros(d)"
      ],
      "execution_count": 3,
      "outputs": []
    },
    {
      "cell_type": "code",
      "metadata": {
        "id": "zzVjV5cwDx5W",
        "colab_type": "code",
        "colab": {}
      },
      "source": [
        "# taking best slot machine through beta distribution and updating its losse and wins\n",
        "for i in range(N):\n",
        "    selected = 0\n",
        "    max_random = 0\n",
        "    for j in range(d):\n",
        "        random_beta = np.random.beta(no_of_pos_reward[j] + 1,no_of_neg_reward[j] + 1)\n",
        "        if random_beta > max_random:\n",
        "            max_random = random_beta\n",
        "            selected = j\n",
        "    if X[i][selected] == 1:\n",
        "        no_of_pos_reward[selected] += 1\n",
        "    else:\n",
        "        no_of_neg_reward[selected] += 1"
      ],
      "execution_count": 4,
      "outputs": []
    },
    {
      "cell_type": "code",
      "metadata": {
        "id": "eMihQsyiFZ9R",
        "colab_type": "code",
        "colab": {
          "base_uri": "https://localhost:8080/",
          "height": 121
        },
        "outputId": "43592c88-3a3a-415e-ff02-fa15db8656b8"
      },
      "source": [
        "# Showing which slot machine is considered the best\n",
        "n_selected = no_of_pos_reward + no_of_neg_reward\n",
        "for i in range(d):\n",
        "    print('Machine number ' + str(i + 1)+ ' was selected '+ str(n_selected[i])+ ' times')\n",
        "print('Conclusion: Best machine is machine number '+ str(np.argmax(n_selected)+ 1))"
      ],
      "execution_count": 5,
      "outputs": [
        {
          "output_type": "stream",
          "text": [
            "Machine number 1 was selected 5486.0 times\n",
            "Machine number 2 was selected 61.0 times\n",
            "Machine number 3 was selected 3752.0 times\n",
            "Machine number 4 was selected 560.0 times\n",
            "Machine number 5 was selected 141.0 times\n",
            "Conclusion: Best machine is machine number 1\n"
          ],
          "name": "stdout"
        }
      ]
    },
    {
      "cell_type": "code",
      "metadata": {
        "id": "tzS9jx7j_OFl",
        "colab_type": "code",
        "colab": {
          "base_uri": "https://localhost:8080/",
          "height": 1000
        },
        "outputId": "db98cbd2-0d47-4bb1-8c47-eaaffa3f78db"
      },
      "source": [
        "# Models comparison\n",
        "N = [200, 1000, 5000]\n",
        "D = 20\n",
        "convRanges = [(0., 0.1), (0., 0.3), (0., 0.5)]\n",
        "\n",
        "results = list()\n",
        "for n in N:\n",
        "    for ranges in convRanges:\n",
        "        results.append([])\n",
        "        for d  in range(3, D + 1):\n",
        "            p1 = 0\n",
        "            p2 = 0\n",
        "\n",
        "            for rounds in range(1000):\n",
        "                \n",
        "                conversionRates = list()\n",
        "                for i in range(d):\n",
        "                    conversionRates.append(np.random.uniform(low = ranges[0], high = ranges[1]))\n",
        "                    \n",
        "                X = np.zeros((n,d))\n",
        "                for i in range(n):\n",
        "                    for j in range(d):\n",
        "                        if np.random.rand() < conversionRates[j]:\n",
        "                            X[i][j] = 1\n",
        "                \n",
        "                nPosReward = np.zeros(d)\n",
        "                nNegReward = np.zeros(d)\n",
        "                \n",
        "                for i in range(n):\n",
        "                    selected = 0\n",
        "                    maxRandom = 0\n",
        "                    \n",
        "                    for j in range(d):\n",
        "                        randomBeta = np.random.beta(nPosReward[j] + 1, nNegReward[j] + 1)\n",
        "                        if randomBeta > maxRandom:\n",
        "                            maxRandom = randomBeta\n",
        "                            selected = j\n",
        "                        \n",
        "                    if X[i][selected] == 1:\n",
        "                        nPosReward[selected] += 1\n",
        "                    else:\n",
        "                        nNegReward[selected] += 1\n",
        "                \n",
        "                nSelected = nPosReward + nNegReward\n",
        "                \n",
        "                left = n - max(nSelected)\n",
        "                \n",
        "                countStandard = np.zeros(d)\n",
        "                \n",
        "                x = int(left / d)\n",
        "                for i in range(x):\n",
        "                    for j in range(d):\n",
        "                        if X[i][j] == 1:\n",
        "                            countStandard[j] += 1\n",
        "                \n",
        "                bestStandard = np.argmax(countStandard)\n",
        "                bestReal = np.argmax(conversionRates)\n",
        "                bestTS = np.argmax(nSelected)\n",
        "\n",
        "                if bestTS == bestReal:\n",
        "                    p1 += 1\n",
        "                if bestStandard == bestReal:\n",
        "                    p2 += 1\n",
        "                \n",
        "            print('N = ' + str(n) + ' d = ' + str(d) + ' range = ' + str(ranges) + ' | result Thompson Sampling = ' + str(p1) + ' result Standard solution = ' + str(p2))\n",
        "            results.append([n, ranges, d, p1, p2])\n",
        "                \n",
        "df = pd.DataFrame(results)\n",
        "df.to_excel('results.xlsx', sheet_name = 'Result', index = False)"
      ],
      "execution_count": null,
      "outputs": [
        {
          "output_type": "stream",
          "text": [
            "N = 200 d = 3 range = (0.0, 0.1) | result Thompson Sampling = 652 result Standard solution = 591\n",
            "N = 200 d = 4 range = (0.0, 0.1) | result Thompson Sampling = 571 result Standard solution = 497\n",
            "N = 200 d = 5 range = (0.0, 0.1) | result Thompson Sampling = 478 result Standard solution = 400\n",
            "N = 200 d = 6 range = (0.0, 0.1) | result Thompson Sampling = 401 result Standard solution = 352\n",
            "N = 200 d = 7 range = (0.0, 0.1) | result Thompson Sampling = 378 result Standard solution = 322\n",
            "N = 200 d = 8 range = (0.0, 0.1) | result Thompson Sampling = 325 result Standard solution = 305\n",
            "N = 200 d = 9 range = (0.0, 0.1) | result Thompson Sampling = 305 result Standard solution = 269\n",
            "N = 200 d = 10 range = (0.0, 0.1) | result Thompson Sampling = 271 result Standard solution = 210\n",
            "N = 200 d = 11 range = (0.0, 0.1) | result Thompson Sampling = 226 result Standard solution = 234\n",
            "N = 200 d = 12 range = (0.0, 0.1) | result Thompson Sampling = 244 result Standard solution = 192\n",
            "N = 200 d = 13 range = (0.0, 0.1) | result Thompson Sampling = 229 result Standard solution = 204\n",
            "N = 200 d = 14 range = (0.0, 0.1) | result Thompson Sampling = 217 result Standard solution = 162\n",
            "N = 200 d = 15 range = (0.0, 0.1) | result Thompson Sampling = 176 result Standard solution = 160\n",
            "N = 200 d = 16 range = (0.0, 0.1) | result Thompson Sampling = 151 result Standard solution = 159\n",
            "N = 200 d = 17 range = (0.0, 0.1) | result Thompson Sampling = 153 result Standard solution = 165\n",
            "N = 200 d = 18 range = (0.0, 0.1) | result Thompson Sampling = 136 result Standard solution = 135\n",
            "N = 200 d = 19 range = (0.0, 0.1) | result Thompson Sampling = 139 result Standard solution = 131\n",
            "N = 200 d = 20 range = (0.0, 0.1) | result Thompson Sampling = 142 result Standard solution = 134\n",
            "N = 200 d = 3 range = (0.0, 0.3) | result Thompson Sampling = 797 result Standard solution = 668\n",
            "N = 200 d = 4 range = (0.0, 0.3) | result Thompson Sampling = 674 result Standard solution = 568\n",
            "N = 200 d = 5 range = (0.0, 0.3) | result Thompson Sampling = 643 result Standard solution = 540\n",
            "N = 200 d = 6 range = (0.0, 0.3) | result Thompson Sampling = 561 result Standard solution = 456\n",
            "N = 200 d = 7 range = (0.0, 0.3) | result Thompson Sampling = 531 result Standard solution = 437\n",
            "N = 200 d = 8 range = (0.0, 0.3) | result Thompson Sampling = 463 result Standard solution = 385\n",
            "N = 200 d = 9 range = (0.0, 0.3) | result Thompson Sampling = 431 result Standard solution = 366\n",
            "N = 200 d = 10 range = (0.0, 0.3) | result Thompson Sampling = 411 result Standard solution = 339\n",
            "N = 200 d = 11 range = (0.0, 0.3) | result Thompson Sampling = 376 result Standard solution = 304\n",
            "N = 200 d = 12 range = (0.0, 0.3) | result Thompson Sampling = 333 result Standard solution = 291\n",
            "N = 200 d = 13 range = (0.0, 0.3) | result Thompson Sampling = 327 result Standard solution = 256\n",
            "N = 200 d = 14 range = (0.0, 0.3) | result Thompson Sampling = 266 result Standard solution = 229\n",
            "N = 200 d = 15 range = (0.0, 0.3) | result Thompson Sampling = 276 result Standard solution = 213\n",
            "N = 200 d = 16 range = (0.0, 0.3) | result Thompson Sampling = 283 result Standard solution = 223\n",
            "N = 200 d = 17 range = (0.0, 0.3) | result Thompson Sampling = 258 result Standard solution = 219\n",
            "N = 200 d = 18 range = (0.0, 0.3) | result Thompson Sampling = 237 result Standard solution = 190\n",
            "N = 200 d = 19 range = (0.0, 0.3) | result Thompson Sampling = 227 result Standard solution = 178\n",
            "N = 200 d = 20 range = (0.0, 0.3) | result Thompson Sampling = 215 result Standard solution = 181\n",
            "N = 200 d = 3 range = (0.0, 0.5) | result Thompson Sampling = 811 result Standard solution = 692\n",
            "N = 200 d = 4 range = (0.0, 0.5) | result Thompson Sampling = 746 result Standard solution = 636\n",
            "N = 200 d = 5 range = (0.0, 0.5) | result Thompson Sampling = 716 result Standard solution = 590\n",
            "N = 200 d = 6 range = (0.0, 0.5) | result Thompson Sampling = 638 result Standard solution = 533\n",
            "N = 200 d = 7 range = (0.0, 0.5) | result Thompson Sampling = 602 result Standard solution = 486\n",
            "N = 200 d = 8 range = (0.0, 0.5) | result Thompson Sampling = 583 result Standard solution = 449\n",
            "N = 200 d = 9 range = (0.0, 0.5) | result Thompson Sampling = 508 result Standard solution = 380\n",
            "N = 200 d = 10 range = (0.0, 0.5) | result Thompson Sampling = 493 result Standard solution = 383\n",
            "N = 200 d = 11 range = (0.0, 0.5) | result Thompson Sampling = 455 result Standard solution = 360\n",
            "N = 200 d = 12 range = (0.0, 0.5) | result Thompson Sampling = 439 result Standard solution = 346\n",
            "N = 200 d = 13 range = (0.0, 0.5) | result Thompson Sampling = 407 result Standard solution = 308\n",
            "N = 200 d = 14 range = (0.0, 0.5) | result Thompson Sampling = 391 result Standard solution = 290\n",
            "N = 200 d = 15 range = (0.0, 0.5) | result Thompson Sampling = 407 result Standard solution = 256\n",
            "N = 200 d = 16 range = (0.0, 0.5) | result Thompson Sampling = 304 result Standard solution = 262\n",
            "N = 200 d = 17 range = (0.0, 0.5) | result Thompson Sampling = 347 result Standard solution = 262\n",
            "N = 200 d = 18 range = (0.0, 0.5) | result Thompson Sampling = 317 result Standard solution = 242\n",
            "N = 200 d = 19 range = (0.0, 0.5) | result Thompson Sampling = 289 result Standard solution = 224\n",
            "N = 200 d = 20 range = (0.0, 0.5) | result Thompson Sampling = 274 result Standard solution = 202\n",
            "N = 1000 d = 3 range = (0.0, 0.1) | result Thompson Sampling = 797 result Standard solution = 670\n",
            "N = 1000 d = 4 range = (0.0, 0.1) | result Thompson Sampling = 738 result Standard solution = 636\n",
            "N = 1000 d = 5 range = (0.0, 0.1) | result Thompson Sampling = 654 result Standard solution = 561\n",
            "N = 1000 d = 6 range = (0.0, 0.1) | result Thompson Sampling = 611 result Standard solution = 455\n",
            "N = 1000 d = 7 range = (0.0, 0.1) | result Thompson Sampling = 543 result Standard solution = 470\n",
            "N = 1000 d = 8 range = (0.0, 0.1) | result Thompson Sampling = 504 result Standard solution = 409\n",
            "N = 1000 d = 9 range = (0.0, 0.1) | result Thompson Sampling = 494 result Standard solution = 414\n",
            "N = 1000 d = 10 range = (0.0, 0.1) | result Thompson Sampling = 428 result Standard solution = 359\n",
            "N = 1000 d = 11 range = (0.0, 0.1) | result Thompson Sampling = 401 result Standard solution = 330\n",
            "N = 1000 d = 12 range = (0.0, 0.1) | result Thompson Sampling = 365 result Standard solution = 292\n",
            "N = 1000 d = 13 range = (0.0, 0.1) | result Thompson Sampling = 398 result Standard solution = 304\n",
            "N = 1000 d = 14 range = (0.0, 0.1) | result Thompson Sampling = 338 result Standard solution = 266\n",
            "N = 1000 d = 15 range = (0.0, 0.1) | result Thompson Sampling = 313 result Standard solution = 253\n",
            "N = 1000 d = 16 range = (0.0, 0.1) | result Thompson Sampling = 326 result Standard solution = 252\n",
            "N = 1000 d = 17 range = (0.0, 0.1) | result Thompson Sampling = 286 result Standard solution = 249\n",
            "N = 1000 d = 18 range = (0.0, 0.1) | result Thompson Sampling = 292 result Standard solution = 221\n",
            "N = 1000 d = 19 range = (0.0, 0.1) | result Thompson Sampling = 255 result Standard solution = 185\n",
            "N = 1000 d = 20 range = (0.0, 0.1) | result Thompson Sampling = 250 result Standard solution = 194\n",
            "N = 1000 d = 3 range = (0.0, 0.3) | result Thompson Sampling = 865 result Standard solution = 735\n",
            "N = 1000 d = 4 range = (0.0, 0.3) | result Thompson Sampling = 838 result Standard solution = 697\n",
            "N = 1000 d = 5 range = (0.0, 0.3) | result Thompson Sampling = 806 result Standard solution = 654\n",
            "N = 1000 d = 6 range = (0.0, 0.3) | result Thompson Sampling = 770 result Standard solution = 605\n",
            "N = 1000 d = 7 range = (0.0, 0.3) | result Thompson Sampling = 721 result Standard solution = 540\n",
            "N = 1000 d = 8 range = (0.0, 0.3) | result Thompson Sampling = 669 result Standard solution = 523\n",
            "N = 1000 d = 9 range = (0.0, 0.3) | result Thompson Sampling = 648 result Standard solution = 479\n",
            "N = 1000 d = 10 range = (0.0, 0.3) | result Thompson Sampling = 627 result Standard solution = 468\n",
            "N = 1000 d = 11 range = (0.0, 0.3) | result Thompson Sampling = 581 result Standard solution = 434\n",
            "N = 1000 d = 12 range = (0.0, 0.3) | result Thompson Sampling = 588 result Standard solution = 429\n",
            "N = 1000 d = 13 range = (0.0, 0.3) | result Thompson Sampling = 519 result Standard solution = 411\n",
            "N = 1000 d = 14 range = (0.0, 0.3) | result Thompson Sampling = 505 result Standard solution = 357\n",
            "N = 1000 d = 15 range = (0.0, 0.3) | result Thompson Sampling = 480 result Standard solution = 342\n",
            "N = 1000 d = 16 range = (0.0, 0.3) | result Thompson Sampling = 469 result Standard solution = 344\n",
            "N = 1000 d = 17 range = (0.0, 0.3) | result Thompson Sampling = 458 result Standard solution = 313\n",
            "N = 1000 d = 18 range = (0.0, 0.3) | result Thompson Sampling = 460 result Standard solution = 309\n",
            "N = 1000 d = 19 range = (0.0, 0.3) | result Thompson Sampling = 417 result Standard solution = 299\n",
            "N = 1000 d = 20 range = (0.0, 0.3) | result Thompson Sampling = 397 result Standard solution = 276\n",
            "N = 1000 d = 3 range = (0.0, 0.5) | result Thompson Sampling = 896 result Standard solution = 787\n",
            "N = 1000 d = 4 range = (0.0, 0.5) | result Thompson Sampling = 891 result Standard solution = 738\n",
            "N = 1000 d = 5 range = (0.0, 0.5) | result Thompson Sampling = 854 result Standard solution = 663\n",
            "N = 1000 d = 6 range = (0.0, 0.5) | result Thompson Sampling = 808 result Standard solution = 629\n",
            "N = 1000 d = 7 range = (0.0, 0.5) | result Thompson Sampling = 783 result Standard solution = 600\n",
            "N = 1000 d = 8 range = (0.0, 0.5) | result Thompson Sampling = 742 result Standard solution = 549\n",
            "N = 1000 d = 9 range = (0.0, 0.5) | result Thompson Sampling = 747 result Standard solution = 537\n",
            "N = 1000 d = 10 range = (0.0, 0.5) | result Thompson Sampling = 696 result Standard solution = 501\n",
            "N = 1000 d = 11 range = (0.0, 0.5) | result Thompson Sampling = 653 result Standard solution = 482\n",
            "N = 1000 d = 12 range = (0.0, 0.5) | result Thompson Sampling = 609 result Standard solution = 472\n",
            "N = 1000 d = 13 range = (0.0, 0.5) | result Thompson Sampling = 632 result Standard solution = 425\n",
            "N = 1000 d = 14 range = (0.0, 0.5) | result Thompson Sampling = 624 result Standard solution = 443\n",
            "N = 1000 d = 15 range = (0.0, 0.5) | result Thompson Sampling = 586 result Standard solution = 414\n",
            "N = 1000 d = 16 range = (0.0, 0.5) | result Thompson Sampling = 552 result Standard solution = 394\n",
            "N = 1000 d = 17 range = (0.0, 0.5) | result Thompson Sampling = 547 result Standard solution = 395\n",
            "N = 1000 d = 18 range = (0.0, 0.5) | result Thompson Sampling = 558 result Standard solution = 345\n",
            "N = 1000 d = 19 range = (0.0, 0.5) | result Thompson Sampling = 513 result Standard solution = 372\n",
            "N = 1000 d = 20 range = (0.0, 0.5) | result Thompson Sampling = 503 result Standard solution = 344\n",
            "N = 5000 d = 3 range = (0.0, 0.1) | result Thompson Sampling = 895 result Standard solution = 781\n",
            "N = 5000 d = 4 range = (0.0, 0.1) | result Thompson Sampling = 860 result Standard solution = 704\n",
            "N = 5000 d = 5 range = (0.0, 0.1) | result Thompson Sampling = 816 result Standard solution = 670\n",
            "N = 5000 d = 6 range = (0.0, 0.1) | result Thompson Sampling = 759 result Standard solution = 588\n",
            "N = 5000 d = 7 range = (0.0, 0.1) | result Thompson Sampling = 752 result Standard solution = 607\n",
            "N = 5000 d = 8 range = (0.0, 0.1) | result Thompson Sampling = 724 result Standard solution = 568\n",
            "N = 5000 d = 9 range = (0.0, 0.1) | result Thompson Sampling = 687 result Standard solution = 557\n",
            "N = 5000 d = 10 range = (0.0, 0.1) | result Thompson Sampling = 643 result Standard solution = 479\n",
            "N = 5000 d = 11 range = (0.0, 0.1) | result Thompson Sampling = 619 result Standard solution = 456\n",
            "N = 5000 d = 12 range = (0.0, 0.1) | result Thompson Sampling = 591 result Standard solution = 457\n",
            "N = 5000 d = 13 range = (0.0, 0.1) | result Thompson Sampling = 565 result Standard solution = 425\n",
            "N = 5000 d = 14 range = (0.0, 0.1) | result Thompson Sampling = 553 result Standard solution = 371\n",
            "N = 5000 d = 15 range = (0.0, 0.1) | result Thompson Sampling = 516 result Standard solution = 418\n",
            "N = 5000 d = 16 range = (0.0, 0.1) | result Thompson Sampling = 504 result Standard solution = 373\n",
            "N = 5000 d = 17 range = (0.0, 0.1) | result Thompson Sampling = 484 result Standard solution = 336\n",
            "N = 5000 d = 18 range = (0.0, 0.1) | result Thompson Sampling = 506 result Standard solution = 335\n",
            "N = 5000 d = 19 range = (0.0, 0.1) | result Thompson Sampling = 455 result Standard solution = 318\n",
            "N = 5000 d = 20 range = (0.0, 0.1) | result Thompson Sampling = 429 result Standard solution = 311\n",
            "N = 5000 d = 3 range = (0.0, 0.3) | result Thompson Sampling = 937 result Standard solution = 814\n",
            "N = 5000 d = 4 range = (0.0, 0.3) | result Thompson Sampling = 910 result Standard solution = 769\n",
            "N = 5000 d = 5 range = (0.0, 0.3) | result Thompson Sampling = 871 result Standard solution = 731\n",
            "N = 5000 d = 6 range = (0.0, 0.3) | result Thompson Sampling = 876 result Standard solution = 682\n",
            "N = 5000 d = 7 range = (0.0, 0.3) | result Thompson Sampling = 846 result Standard solution = 674\n",
            "N = 5000 d = 8 range = (0.0, 0.3) | result Thompson Sampling = 824 result Standard solution = 624\n",
            "N = 5000 d = 9 range = (0.0, 0.3) | result Thompson Sampling = 813 result Standard solution = 631\n",
            "N = 5000 d = 10 range = (0.0, 0.3) | result Thompson Sampling = 805 result Standard solution = 569\n",
            "N = 5000 d = 11 range = (0.0, 0.3) | result Thompson Sampling = 762 result Standard solution = 558\n"
          ],
          "name": "stdout"
        }
      ]
    }
  ]
}